{
 "cells": [
  {
   "cell_type": "markdown",
   "metadata": {},
   "source": [
    "# A brief visualization of the the daily exchange rates per Euro 1999-2021"
   ]
  },
  {
   "cell_type": "code",
   "execution_count": null,
   "metadata": {},
   "outputs": [],
   "source": [
    "import logging\n",
    "\n",
    "import pandas as pd\n",
    "import matplotlib.pyplot as plt\n",
    "import matplotlib.style as style\n",
    "%matplotlib inline"
   ]
  },
  {
   "cell_type": "code",
   "execution_count": null,
   "metadata": {},
   "outputs": [],
   "source": [
    "# reading the data\n",
    "exchange_rates = pd.read_csv(r'data/euro-daily-hist_1999_2021.csv')"
   ]
  },
  {
   "cell_type": "markdown",
   "metadata": {},
   "source": [
    "## Visualising some of the first rows"
   ]
  },
  {
   "cell_type": "code",
   "execution_count": null,
   "metadata": {},
   "outputs": [],
   "source": [
    "exchange_rates.head()"
   ]
  },
  {
   "cell_type": "markdown",
   "metadata": {},
   "source": [
    "## Visualising some of the last rows"
   ]
  },
  {
   "cell_type": "code",
   "execution_count": null,
   "metadata": {},
   "outputs": [],
   "source": [
    "exchange_rates.tail()"
   ]
  },
  {
   "cell_type": "markdown",
   "metadata": {},
   "source": [
    "## Checking for a brief data information\n",
    "Here we can see that the data is not fully complete, there are some NaN's along the 45 columns and 5877 rows of the dataset. One other thing that is noticeble is that only some columns are assuming numeric values ```(float64)```, almost every single column is stored as a string ```(object)```."
   ]
  },
  {
   "cell_type": "code",
   "execution_count": null,
   "metadata": {},
   "outputs": [],
   "source": [
    "exchange_rates.info()"
   ]
  },
  {
   "cell_type": "markdown",
   "metadata": {},
   "source": [
    "## Data cleaning\n",
    "The data will be cleaning on the following aspects:\n",
    "* Renaming the column names: for the exchange rates, only the removal of unecessary characters, for the ```Period\\Unit:```, it will be called ```Time   ```;\n",
    "* Changing the date column to ```datetime```;\n",
    "* Sorting the ```Time``` values in an ascending order;\n",
    "* Reseting the index (due to the sorting) and droping it; "
   ]
  },
  {
   "cell_type": "code",
   "execution_count": null,
   "metadata": {},
   "outputs": [],
   "source": [
    "# renaming the column names\n",
    "exchange_rates.columns = [column.replace('[', '').replace(' ]', '') for column in exchange_rates.columns]\n",
    "exchange_rates.columns = [column.replace(' ', '_') for column in exchange_rates.columns]\n",
    "exchange_rates.rename(columns={r'Period\\Unit:': 'Time'}, inplace=True)\n",
    "\n",
    "# changing the type of the Time column to datetime\n",
    "exchange_rates['Time'] = pd.to_datetime(exchange_rates['Time'])\n",
    "\n",
    "# sorting the dates\n",
    "exchange_rates.sort_values('Time', ascending=True, inplace=True)\n",
    "\n",
    "# reseting the index and droping it\n",
    "exchange_rates.reset_index(drop=True, inplace=True)"
   ]
  },
  {
   "cell_type": "code",
   "execution_count": null,
   "metadata": {},
   "outputs": [],
   "source": [
    "exchange_rates.head()"
   ]
  },
  {
   "cell_type": "markdown",
   "metadata": {},
   "source": [
    "## Delimiting our problem\n",
    "For the next analysis and visualizations, our focus will be on the Brazilian REAL and the North American DOLLAR to EURO exchange rates."
   ]
  },
  {
   "cell_type": "code",
   "execution_count": null,
   "metadata": {},
   "outputs": [],
   "source": [
    "# segmenting the dataset for the dollar\n",
    "euro2dollar = exchange_rates[['Time', 'US_dollar']].copy()\n",
    "# segmenting the dataset for the real\n",
    "euro2real = exchange_rates[['Time', 'Brazilian_real']].copy()"
   ]
  },
  {
   "cell_type": "markdown",
   "metadata": {},
   "source": [
    "## Checking for data incosistency\n",
    "As we check for any strange or unreadable values over the segmented data, we encounter that 62 ```'-'``` values are in the dollar's data, and 61 on the real's data. Because of this, only the data without these values will be filtered to be used."
   ]
  },
  {
   "cell_type": "code",
   "execution_count": null,
   "metadata": {},
   "outputs": [],
   "source": [
    "euro2dollar.US_dollar.value_counts()"
   ]
  },
  {
   "cell_type": "code",
   "execution_count": null,
   "metadata": {},
   "outputs": [],
   "source": [
    "euro2real.Brazilian_real.value_counts()"
   ]
  },
  {
   "cell_type": "code",
   "execution_count": null,
   "metadata": {},
   "outputs": [],
   "source": [
    "# filtering for the non '-' values on both dataframes\n",
    "euro2dollar = euro2dollar[euro2dollar['US_dollar'] != '-']\n",
    "euro2real = euro2real[euro2real['Brazilian_real'] != '-']"
   ]
  },
  {
   "cell_type": "markdown",
   "metadata": {},
   "source": [
    "## Converting the ```string``` to ```numeric``` ones\n",
    "For both datasets, its necessary to adequate the data to a numeric type, so, the columns ```euro2dollar['US_dollar']``` and ```euro2real['Brazilian_real']``` will be converted to ``float64````."
   ]
  },
  {
   "cell_type": "code",
   "execution_count": null,
   "metadata": {},
   "outputs": [],
   "source": [
    "# converting the column types of both dataframes\n",
    "euro2dollar['US_dollar'] = euro2dollar['US_dollar'].astype(float)\n",
    "euro2real['Brazilian_real'] = euro2real['Brazilian_real'].astype(float)"
   ]
  },
  {
   "cell_type": "markdown",
   "metadata": {},
   "source": [
    "## Verifying the evolutiong of the exchangin rates (on respect with the Euro)"
   ]
  },
  {
   "cell_type": "code",
   "execution_count": null,
   "metadata": {},
   "outputs": [],
   "source": [
    "# the temporary plotting style\n",
    "style.use('seaborn-talk')\n",
    "\n",
    "fig, (ax1, ax2) = plt.subplots(1, 2, figsize=(15, 6))\n",
    "\n",
    "ax1.plot(euro2dollar['Time'], euro2dollar['US_dollar'])\n",
    "ax2.plot(euro2real['Time'], euro2real['Brazilian_real'])\n",
    "\n",
    "for ax in [ax1, ax2]:\n",
    "    ax.set_xlabel('Year')\n",
    "    ax.set_ylabel('Coin Value')\n",
    "    \n",
    "    for location in ['right', 'top']:\n",
    "        ax.spines[location].set_visible(False)\n",
    "\n",
    "ax1.set_title('Evolution of the Euro-Dollar Exchange Rate', size=20, weight='bold')\n",
    "ax2.set_title('Evolution of the Euro-Real Exchange Rate', size=20, weight='bold')\n",
    "\n",
    "plt.show()"
   ]
  },
  {
   "cell_type": "markdown",
   "metadata": {},
   "source": [
    "## Analysing the rolling means\n",
    "Visualizaing for different rolling window sizes, how the data is plotted to us. For long-term trends, the curves are smoother as we can see bellow."
   ]
  },
  {
   "cell_type": "code",
   "execution_count": null,
   "metadata": {},
   "outputs": [],
   "source": [
    "fig = plt.figure(figsize=(12, 15))\n",
    "\n",
    "rolling_window = [1, 7, 30, 50, 100, 365]\n",
    "plot_number = range(1, 7)\n",
    "for i, rolling_mean in zip(plot_number, rolling_window):\n",
    "    ax = fig.add_subplot(3, 2, i)\n",
    "    \n",
    "    for location in ['right', 'top']:\n",
    "        ax.spines[location].set_visible(False)\n",
    "    \n",
    "    plt.title('Rolling Window:' + str(rolling_mean), weight='bold')\n",
    "    ax.plot(euro2dollar['Time'], euro2dollar['US_dollar'].rolling(rolling_mean).mean(), color='lightblue', label='dollar', alpha=0.8)\n",
    "    ax.plot(euro2real['Time'], euro2real['Brazilian_real'].rolling(rolling_mean).mean(), color='red', label='Real')\n",
    "    ax.legend()\n",
    "\n",
    "plt.tight_layout()\n",
    "plt.show()"
   ]
  },
  {
   "cell_type": "code",
   "execution_count": null,
   "metadata": {},
   "outputs": [],
   "source": [
    "# setting the rollng mean for euro2real and euro2dollar\n",
    "euro2dollar['rolling_mean'] = euro2dollar['US_dollar'].rolling(30).mean()\n",
    "euro2real['rolling_mean'] = euro2real['Brazilian_real'].rolling(30).mean()"
   ]
  },
  {
   "cell_type": "markdown",
   "metadata": {},
   "source": [
    "## Visualizing the Euro-Dollar exchange rate for last 3 United States presidents\n",
    "Here, our objective is to see how the euro to dollar parity fluctuated over the passage of the last 3 presidents of United States (without including Binden). For this, we need to know that here:\n",
    "\n",
    "* George W. Bush: 2001 ~ 2009;\n",
    "* Barack Obama: 2009 ~ 2017;\n",
    "* Donald Trump: 2017 ~ 2021;\n",
    "\n",
    "So we have to filter our data, since it started on 1999."
   ]
  },
  {
   "cell_type": "code",
   "execution_count": null,
   "metadata": {},
   "outputs": [],
   "source": [
    "# segmenting the full dataset to its respective president   \n",
    "df_all_presidents = euro2dollar.copy().loc[(euro2dollar['Time'].dt.year >= 2001) & (euro2dollar['Time'].dt.year < 2021)]\n",
    "bush = df_all_presidents.copy().loc[df_all_presidents['Time'].dt.year < 2009]\n",
    "obama = df_all_presidents.copy().loc[(euro2dollar['Time'].dt.year >= 2009) & (euro2dollar['Time'].dt.year < 2017)]\n",
    "trump = df_all_presidents.copy().loc[(df_all_presidents['Time'].dt.year >= 2017) & (df_all_presidents['Time'].dt.year < 2021)]"
   ]
  },
  {
   "cell_type": "code",
   "execution_count": null,
   "metadata": {},
   "outputs": [],
   "source": [
    "style.use('fivethirtyeight')\n",
    "\n",
    "# creating the subplots\n",
    "plt.figure(figsize=(20, 10))\n",
    "\n",
    "# two rows: one with 3 graphs side-to-side and the second with only a bigger graph\n",
    "ax1 = plt.subplot(2, 3, 1)\n",
    "ax2 = plt.subplot(2, 3, 2)\n",
    "ax3 = plt.subplot(2, 3, 3)\n",
    "ax4 = plt.subplot(2, 1, 2)\n",
    "\n",
    "# changes to all the subplots\n",
    "axes = [ax1, ax2, ax3, ax4]\n",
    "for ax in axes:\n",
    "    ax.set_ylim(0.8, 1.7)\n",
    "    ax.set_yticks([1.0, 1.2, 1.4, 1.6])\n",
    "    ax.set_yticklabels(['1.0', '1.2','1.4', '1.6'],  alpha=0.3)\n",
    "    ax.grid(alpha=0.5)    \n",
    "\n",
    "# ploting for Bush\n",
    "ax1.plot(bush['Time'], bush['rolling_mean'], color='#00FFFF')\n",
    "ax1.set_xticklabels(['', '2001', '', '2003', '', '2005', '', '2007', '', '2009'], alpha=0.3)\n",
    "ax1.text(12500, 1.85, 'BUSH', fontsize=18, weight='bold', color='#00FFFF')\n",
    "ax1.text(12330, 1.8, '(2001-2009)', weight='bold', alpha=0.3)\n",
    "\n",
    "# plotting for Obama\n",
    "ax2.plot(obama['Time'], obama['rolling_mean'], color='#00BFFF')\n",
    "ax2.set_xticklabels(['', '2009', '', '2011', '', '2013', '', '2015', '', '2017'], alpha=0.3)\n",
    "ax2.text(15300.0, 1.85, 'OBAMA', fontsize=18, weight='bold', color='#00BFFF')\n",
    "ax2.text(15200.0, 1.8, '(2009-2017)', weight='bold', alpha=0.3)\n",
    "\n",
    "# plotting for Trump\n",
    "ax3.plot(trump['Time'], trump['rolling_mean'], color='#4B7FFF')\n",
    "ax3.set_xticklabels(['2017', '', '2018', '', '2019', '', '2020', '', '2021'], alpha=0.3)\n",
    "ax3.text(17700.0, 1.85, 'TRUMP', fontsize=18, weight='bold', color='#4B7FFF')\n",
    "ax3.text(17640.0, 1.8, '(2017-2021)', weight='bold', alpha=0.3)\n",
    "\n",
    "# plotting for all presidents together\n",
    "ax4.plot(bush['Time'], bush['rolling_mean'], color='#00FFFF')\n",
    "ax4.plot(obama['Time'], obama['rolling_mean'], color='#00BFFF')\n",
    "ax4.plot(trump['Time'], trump['rolling_mean'], color='#4B7FFF')\n",
    "\n",
    "ax4.plot(bush['Time'], bush['rolling_mean'], color='#00FFFF')\n",
    "ax4.plot(obama['Time'], obama['rolling_mean'], color='#00BFFF')\n",
    "ax4.plot(trump['Time'], trump['rolling_mean'], color='#4B7FFF')\n",
    "ax4.grid(alpha=0.5)\n",
    "ax4.set_xticks([])\n",
    "\n",
    "# title and subtile being added\n",
    "ax1.text(13000.0, 2.12, 'EURO-USD rate averaged 1.22 under the last three US presidents', fontsize=22, weight='bold')\n",
    "ax1.text(13000.0, 2.0, '''EURO-USD exchange rates under George W. Bush (2001 - 2009), Barack Obama (2009-2017),\n",
    "and Donald Trump (2017-2021)''', fontsize=16)\n",
    "\n",
    "# adding the signature\n",
    "ax4.text(10500.0, 0.65, '©Ariel Alsina' + ' '*230 + 'Source: European Central Bank', \n",
    "        color = '#f0f0f0', backgroundcolor = '#4d4d4d',\n",
    "        size=14)\n",
    "\n",
    "\n",
    "plt.show()"
   ]
  },
  {
   "cell_type": "code",
   "execution_count": null,
   "metadata": {},
   "outputs": [],
   "source": []
  }
 ],
 "metadata": {
  "interpreter": {
   "hash": "0056ebf91e1e7252fd5fabd7a2aad1dec965734ea4f176ce8aa2f039fab8c859"
  },
  "kernelspec": {
   "display_name": "Python 3.10.0 64-bit ('story_telling': conda)",
   "language": "python",
   "name": "python3"
  },
  "language_info": {
   "codemirror_mode": {
    "name": "ipython",
    "version": 3
   },
   "file_extension": ".py",
   "mimetype": "text/x-python",
   "name": "python",
   "nbconvert_exporter": "python",
   "pygments_lexer": "ipython3",
   "version": "3.10.0"
  },
  "orig_nbformat": 4
 },
 "nbformat": 4,
 "nbformat_minor": 2
}
